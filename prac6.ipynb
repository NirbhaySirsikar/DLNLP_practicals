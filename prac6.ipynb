{
  "nbformat": 4,
  "nbformat_minor": 0,
  "metadata": {
    "colab": {
      "provenance": []
    },
    "kernelspec": {
      "name": "python3",
      "display_name": "Python 3"
    },
    "language_info": {
      "name": "python"
    }
  },
  "cells": [
    {
      "cell_type": "code",
      "execution_count": 1,
      "metadata": {
        "colab": {
          "base_uri": "https://localhost:8080/"
        },
        "id": "hzdS0kvcnLmC",
        "outputId": "aef73bf2-5ef2-4b5d-8521-979d8c7c906a"
      },
      "outputs": [
        {
          "output_type": "stream",
          "name": "stdout",
          "text": [
            "[[1. 0. 0. 0.]\n",
            " [0. 1. 0. 0.]\n",
            " [0. 0. 1. 0.]\n",
            " [0. 1. 0. 0.]\n",
            " [0. 0. 0. 1.]]\n"
          ]
        }
      ],
      "source": [
        "# use keras deep learning library and split write a code with encoding one_hot\n",
        "import numpy as np\n",
        "from keras.utils import to_categorical\n",
        "category=[\"apple\",\"orange\",\"kiwi\",\"orange\",\"banana\"]\n",
        "Total_category=[\"apple\",\"orange\",\"kiwi\",\"banana\",\"litchi\"]\n",
        "mapping={}\n",
        "for x in range(len(Total_category)):\n",
        "  mapping[Total_category[x]]=x\n",
        "for x in range(len(category)):\n",
        "  category[x]=mapping[category[x]]\n",
        "one_hot_encode=to_categorical(category)\n",
        "print(one_hot_encode)"
      ]
    },
    {
      "cell_type": "code",
      "source": [
        "#CODE WITH DATA SET\n",
        "\n",
        "\n",
        "# import numpy as np\n",
        "# import pandas as pd\n",
        "# data=pd.read_csv('/content/USA_cars_datasets[1].csv')\n",
        "# print(data.head())\n",
        "# print(data['brand'].unique())\n",
        "# print(data['state'].unique())\n",
        "# data['brand'].value_counts()\n",
        "# data['state'].value_counts()\n",
        "# one_hot_encoded_data=pd.get_dummies(data,columns=['state','brand'])\n",
        "# print(one_hot_encoded_data)"
      ],
      "metadata": {
        "id": "qAqEM2_KpusR"
      },
      "execution_count": null,
      "outputs": []
    }
  ]
}