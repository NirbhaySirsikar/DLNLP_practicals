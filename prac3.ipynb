{
  "nbformat": 4,
  "nbformat_minor": 0,
  "metadata": {
    "colab": {
      "provenance": []
    },
    "kernelspec": {
      "name": "python3",
      "display_name": "Python 3"
    },
    "language_info": {
      "name": "python"
    }
  },
  "cells": [
    {
      "cell_type": "code",
      "execution_count": 3,
      "metadata": {
        "colab": {
          "base_uri": "https://localhost:8080/"
        },
        "id": "psSwpdP3F4m5",
        "outputId": "2303850a-75d2-465e-9bf3-ca8f58dd2625"
      },
      "outputs": [
        {
          "output_type": "execute_result",
          "data": {
            "text/plain": [
              "array([[0.53409337, 0.31544415, 0.        , 0.        , 0.53409337,\n",
              "        0.        , 0.        , 0.40619178, 0.40619178, 0.        ],\n",
              "       [0.        , 0.31544415, 0.        , 0.        , 0.        ,\n",
              "        0.        , 0.53409337, 0.40619178, 0.40619178, 0.53409337],\n",
              "       [0.        , 0.32274454, 0.54645401, 0.54645401, 0.        ,\n",
              "        0.54645401, 0.        , 0.        , 0.        , 0.        ]])"
            ]
          },
          "metadata": {},
          "execution_count": 3
        }
      ],
      "source": [
        "from sklearn.feature_extraction.text import CountVectorizer\n",
        "message=[\n",
        "'sun rises in the east',\n",
        "'sun sets in the west',\n",
        "'last sem in paruluniversity '\n",
        "]\n",
        "b=CountVectorizer()\n",
        "b.fit_transform(message).toarray()\n",
        "b.transform(['New sentence']).toarray()\n",
        "from sklearn.feature_extraction.text import TfidfTransformer\n",
        "data_vec=b.transform(message).toarray()\n",
        "data_vec\n",
        "tfid= TfidfTransformer()\n",
        "data_vec_weighted=tfid.fit_transform(data_vec)\n",
        "data_vec_weighted.toarray()\n",
        "from sklearn.feature_extraction.text import TfidfVectorizer\n",
        "tfidf_vec=TfidfVectorizer()\n",
        "tfidf_vec.fit_transform(message).toarray()\n"
      ]
    }
  ]
}