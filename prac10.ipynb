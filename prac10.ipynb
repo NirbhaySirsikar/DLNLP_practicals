{
  "nbformat": 4,
  "nbformat_minor": 0,
  "metadata": {
    "colab": {
      "provenance": []
    },
    "kernelspec": {
      "name": "python3",
      "display_name": "Python 3"
    },
    "language_info": {
      "name": "python"
    }
  },
  "cells": [
    {
      "cell_type": "code",
      "execution_count": 2,
      "metadata": {
        "colab": {
          "base_uri": "https://localhost:8080/",
          "height": 140
        },
        "id": "JtzL32DcKiKT",
        "outputId": "82c68abb-0bc0-45d1-fd8a-7d525be81865"
      },
      "outputs": [
        {
          "output_type": "error",
          "ename": "SyntaxError",
          "evalue": "ignored",
          "traceback": [
            "\u001b[0;36m  File \u001b[0;32m\"<ipython-input-2-d3f1be79e8ea>\"\u001b[0;36m, line \u001b[0;32m2\u001b[0m\n\u001b[0;31m    pip install gensim\u001b[0m\n\u001b[0m        ^\u001b[0m\n\u001b[0;31mSyntaxError\u001b[0m\u001b[0;31m:\u001b[0m invalid syntax\n"
          ]
        }
      ],
      "source": [
        "# Step 1: Install Gensim\n",
        "pip install gensim\n"
      ]
    },
    {
      "cell_type": "code",
      "source": [
        "# Step 2: Import Gensim and Prepare a Text Corpus\n",
        "from gensim.models import Word2Vec\n",
        "# Sample text corpus\n",
        "corpus = [\n",
        "\"I like natural language processing.\",\n",
        "\"Word embeddings are essential for NLP.\",\n",
        "\"Gensim is a popular library for Word2Vec.\",\n",
        "\"Word2Vec is a technique to learn word representations.\",\n",
        "]\n",
        "# Tokenize the corpus into sentences and words\n",
        "sentences = [sentence.split() for sentence in corpus]"
      ],
      "metadata": {
        "id": "_H-i2EG5Km6p"
      },
      "execution_count": 3,
      "outputs": []
    },
    {
      "cell_type": "code",
      "source": [
        "# Step 3: Train a Word2Vec Model\n",
        "# Create and train a Word2Vec model\n",
        "model = Word2Vec(sentences, vector_size=100, window=5,min_count=1, sg=0)\n",
        "# Save the model for later use\n",
        "model.save(\"word2vec_model.model\")"
      ],
      "metadata": {
        "id": "XFCn3B0eKz8S"
      },
      "execution_count": 5,
      "outputs": []
    },
    {
      "cell_type": "code",
      "source": [
        "# Step 4: Explore the Model\n",
        "# Check if a word is in the vocabulary before accessing its vector\n",
        "word = \"NLP\"\n",
        "if word in model.wv:\n",
        "  vector = model.wv[word]\n",
        "  print(vector)\n",
        "else:\n",
        "  print(f\"'{word}' not found in the vocabulary.\")"
      ],
      "metadata": {
        "colab": {
          "base_uri": "https://localhost:8080/"
        },
        "id": "nSSaWNBhK4iY",
        "outputId": "115c662b-b7f5-47f3-e281-0ccd7b3597c3"
      },
      "execution_count": 8,
      "outputs": [
        {
          "output_type": "stream",
          "name": "stdout",
          "text": [
            "'NLP' not found in the vocabulary.\n"
          ]
        }
      ]
    }
  ]
}