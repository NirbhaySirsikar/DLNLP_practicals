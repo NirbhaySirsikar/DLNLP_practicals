{
  "nbformat": 4,
  "nbformat_minor": 0,
  "metadata": {
    "colab": {
      "provenance": []
    },
    "kernelspec": {
      "name": "python3",
      "display_name": "Python 3"
    },
    "language_info": {
      "name": "python"
    }
  },
  "cells": [
    {
      "cell_type": "code",
      "source": [
        "from keras.preprocessing.text import text_to_word_sequence\n",
        "text=\"\"\"One way you could do this is to count the frequency of\n",
        "each\n",
        "word in each sentence and tie this count back to the entire\n",
        "set of words in the data set.\n",
        "You would start by taking the data and creating a vocabulary\n",
        "from all the words in all sentences\n",
        ". The collection of texts is also called a corpus in NLP.\"\"\"\n",
        "result= text_to_word_sequence(text)\n",
        "result"
      ],
      "metadata": {
        "colab": {
          "base_uri": "https://localhost:8080/"
        },
        "id": "hK4zs91NVeKU",
        "outputId": "85f8e5d0-52b1-4eec-8af5-8ff8d9c3953e"
      },
      "execution_count": 10,
      "outputs": [
        {
          "output_type": "execute_result",
          "data": {
            "text/plain": [
              "['one',\n",
              " 'way',\n",
              " 'you',\n",
              " 'could',\n",
              " 'do',\n",
              " 'this',\n",
              " 'is',\n",
              " 'to',\n",
              " 'count',\n",
              " 'the',\n",
              " 'frequency',\n",
              " 'of',\n",
              " 'each',\n",
              " 'word',\n",
              " 'in',\n",
              " 'each',\n",
              " 'sentence',\n",
              " 'and',\n",
              " 'tie',\n",
              " 'this',\n",
              " 'count',\n",
              " 'back',\n",
              " 'to',\n",
              " 'the',\n",
              " 'entire',\n",
              " 'set',\n",
              " 'of',\n",
              " 'words',\n",
              " 'in',\n",
              " 'the',\n",
              " 'data',\n",
              " 'set',\n",
              " 'you',\n",
              " 'would',\n",
              " 'start',\n",
              " 'by',\n",
              " 'taking',\n",
              " 'the',\n",
              " 'data',\n",
              " 'and',\n",
              " 'creating',\n",
              " 'a',\n",
              " 'vocabulary',\n",
              " 'from',\n",
              " 'all',\n",
              " 'the',\n",
              " 'words',\n",
              " 'in',\n",
              " 'all',\n",
              " 'sentences',\n",
              " 'the',\n",
              " 'collection',\n",
              " 'of',\n",
              " 'texts',\n",
              " 'is',\n",
              " 'also',\n",
              " 'called',\n",
              " 'a',\n",
              " 'corpus',\n",
              " 'in',\n",
              " 'nlp']"
            ]
          },
          "metadata": {},
          "execution_count": 10
        }
      ]
    }
  ]
}