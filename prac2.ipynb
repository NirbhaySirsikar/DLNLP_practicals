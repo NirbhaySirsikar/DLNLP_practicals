{
  "nbformat": 4,
  "nbformat_minor": 0,
  "metadata": {
    "colab": {
      "provenance": []
    },
    "kernelspec": {
      "name": "python3",
      "display_name": "Python 3"
    },
    "language_info": {
      "name": "python"
    }
  },
  "cells": [
    {
      "cell_type": "code",
      "execution_count": 4,
      "metadata": {
        "colab": {
          "base_uri": "https://localhost:8080/"
        },
        "id": "BKW_xb-CBSCb",
        "outputId": "677fd08c-2e4e-4fcc-c5e6-995c301bdff7"
      },
      "outputs": [
        {
          "output_type": "stream",
          "name": "stdout",
          "text": [
            "Vocabulary:  {'sun': 10, 'rises': 9, 'in': 7, 'the': 11, 'east': 4, '2023': 0, 'icc': 6, 'world': 14, 'cup': 3, 'to': 12, 'be': 2, 'held': 5, 'india': 8, 'won': 13, 'asia': 1}\n",
            "Encoded Document is:\n",
            "[[0 0 0 0 1 0 0 1 0 1 1 1 0 0 0]\n",
            " [1 0 1 1 0 1 1 1 1 0 0 0 1 0 1]\n",
            " [1 1 0 1 0 0 0 0 1 0 0 0 0 1 0]]\n"
          ]
        }
      ],
      "source": [
        "from sklearn.feature_extraction.text import CountVectorizer\n",
        "document = [\"Sun rises in the East\",\n",
        "\"2023 icc world cup to be held in India\",\n",
        "\"India won Asia cup 2023\"]\n",
        "# Create a Vectorizer Object\n",
        "vectorizer = CountVectorizer()\n",
        "vectorizer.fit(document)\n",
        "# Printing the identified Unique words along with their indices\n",
        "print(\"Vocabulary: \", vectorizer.vocabulary_)\n",
        "# Encode the Document\n",
        "vector = vectorizer.transform(document)\n",
        "# Summarizing the Encoded Texts\n",
        "print(\"Encoded Document is:\")\n",
        "print(vector.toarray())"
      ]
    }
  ]
}