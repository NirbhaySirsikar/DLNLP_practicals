{
  "nbformat": 4,
  "nbformat_minor": 0,
  "metadata": {
    "colab": {
      "provenance": []
    },
    "kernelspec": {
      "name": "python3",
      "display_name": "Python 3"
    },
    "language_info": {
      "name": "python"
    }
  },
  "cells": [
    {
      "cell_type": "code",
      "execution_count": 3,
      "metadata": {
        "colab": {
          "base_uri": "https://localhost:8080/"
        },
        "id": "dp__uxBwIsdh",
        "outputId": "8de58100-7b97-422c-c7fe-5b4ff353c403"
      },
      "outputs": [
        {
          "output_type": "stream",
          "name": "stdout",
          "text": [
            "11\n",
            "[10, 1, 13, 10, 13, 12, 10, 13, 6, 3, 5]\n"
          ]
        }
      ],
      "source": [
        "from keras.preprocessing.text import text_to_word_sequence\n",
        "from keras.preprocessing.text import hashing_trick\n",
        "text= \" India become first nation to land successfully near moon's south pole \"\n",
        "words= set(text_to_word_sequence(text))\n",
        "vocab_size=len(words)\n",
        "print(vocab_size)\n",
        "result=hashing_trick(text,round(vocab_size*1.3),hash_function='md5')\n",
        "print(result)"
      ]
    }
  ]
}