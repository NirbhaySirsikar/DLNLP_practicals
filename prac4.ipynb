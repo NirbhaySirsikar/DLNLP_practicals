{
  "nbformat": 4,
  "nbformat_minor": 0,
  "metadata": {
    "colab": {
      "provenance": []
    },
    "kernelspec": {
      "name": "python3",
      "display_name": "Python 3"
    },
    "language_info": {
      "name": "python"
    }
  },
  "cells": [
    {
      "cell_type": "code",
      "execution_count": 13,
      "metadata": {
        "colab": {
          "base_uri": "https://localhost:8080/",
          "height": 604
        },
        "id": "2hQ2tDA7CjlP",
        "outputId": "08e19bb7-c631-487a-efe6-9e624ed7db00"
      },
      "outputs": [
        {
          "output_type": "stream",
          "name": "stdout",
          "text": [
            "Loading 20 newsgroups training data\n",
            "3803 documents - 6.245MB\n",
            "done in 3.612 s at 1.7 MB/s\n",
            "Found 47928 unique terms\n",
            "done in 0.833 s at 7.5 MB/s\n",
            "Found 43873 unique tokens\n",
            "done in 0.826 s at 7.6 MB/s\n",
            "Found 47668 unique tokens\n",
            "done in 0.725 s at 8.6 MB/s\n",
            "Found 43873 unique tokens\n"
          ]
        },
        {
          "output_type": "display_data",
          "data": {
            "text/plain": [
              "<Figure size 1200x600 with 1 Axes>"
            ],
            "image/png": "[encoded data removed]"
          },
          "metadata": {}
        }
      ],
      "source": [
        "from sklearn.datasets import fetch_20newsgroups\n",
        "categories = [\n",
        "\"alt.atheism\",\n",
        "\"comp.graphics\",\n",
        "\"comp.sys.ibm.pc.hardware\",\n",
        "\"misc.forsale\",\n",
        "\"rec.autos\",\n",
        "\"sci.space\",\n",
        "\"talk.religion.misc\",\n",
        "]\n",
        "print(\"Loading 20 newsgroups training data\")\n",
        "raw_data, _ = fetch_20newsgroups(subset=\"train\",\n",
        "categories=categories, return_X_y=True)\n",
        "data_size_mb = sum(len(s.encode(\"utf-8\")) for s in raw_data) / 1e6\n",
        "print(f\"{len(raw_data)} documents - {data_size_mb:.3f}MB\")\n",
        "import re\n",
        "def tokenize(doc):\n",
        "  \"\"\"Extract tokens from doc.\n",
        "  This uses a simple regex that matches word characters to\n",
        "  break strings\n",
        "  into tokens. For a more principled approach, see\n",
        "  CountVectorizer or\n",
        "  TfidfVectorizer.\n",
        "  \"\"\"\n",
        "  return (tok.lower() for tok in re.findall(r\"\\w+\", doc))\n",
        "from collections import defaultdict\n",
        "def token_freqs(doc):\n",
        "  \"\"\"Extract a dict mapping tokens from doc to their\n",
        "  occurrences.\"\"\"\n",
        "  freq = defaultdict(int)\n",
        "  for tok in tokenize(doc):\n",
        "      freq[tok] += 1\n",
        "  return freq\n",
        "token_freqs(\"That is one example, but this is another one\")\n",
        "list(tokenize(\"This is a simple example, isn't it?\"))\n",
        "from time import time\n",
        "from sklearn.feature_extraction import DictVectorizer\n",
        "dict_count_vectorizers = defaultdict(list)\n",
        "t0 = time()\n",
        "vectorizer = DictVectorizer()\n",
        "vectorizer.fit_transform(token_freqs(d) for d in raw_data)\n",
        "duration = time() - t0\n",
        "dict_count_vectorizers[\"vectorizer\"].append(\n",
        "vectorizer.__class__.__name__ + \"\\non freq dicts\"\n",
        ")\n",
        "dict_count_vectorizers[\"speed\"].append(data_size_mb /\n",
        "duration)\n",
        "print(f\"done in {duration:.3f} s at {data_size_mb / duration:.1f} MB/s\")\n",
        "print(f\"Found {len(vectorizer.get_feature_names_out())} unique terms\")\n",
        "import numpy as np\n",
        "def n_nonzero_columns(X):\n",
        "  \"\"\"Number of columns with at least one non-zero value in a\n",
        "  CSR matrix.\n",
        "  This is useful to count the number of features columns\n",
        "  that are effectively\n",
        "  active when using the FeatureHasher.\n",
        "  \"\"\"\n",
        "  return len(np.unique(X.nonzero()[1]))\n",
        "from sklearn.feature_extraction import FeatureHasher\n",
        "t0 = time()\n",
        "hasher = FeatureHasher(n_features=2**18)\n",
        "X = hasher.transform(token_freqs(d) for d in raw_data)\n",
        "duration = time() - t0\n",
        "dict_count_vectorizers[\"vectorizer\"].append(\n",
        "hasher.__class__.__name__ + \"\\non freq dicts\"\n",
        ")\n",
        "dict_count_vectorizers[\"speed\"].append(data_size_mb /\n",
        "duration)\n",
        "print(f\"done in {duration:.3f} s at {data_size_mb / duration:.1f} MB/s\")\n",
        "print(f\"Found {n_nonzero_columns(X)} unique tokens\")\n",
        "t0 = time()\n",
        "hasher = FeatureHasher(n_features=2**22)\n",
        "X = hasher.transform(token_freqs(d) for d in raw_data)\n",
        "duration = time() - t0\n",
        "print(f\"done in {duration:.3f} s at {data_size_mb / duration:.1f} MB/s\")\n",
        "print(f\"Found {n_nonzero_columns(X)} unique tokens\")\n",
        "t0 = time()\n",
        "hasher = FeatureHasher(n_features=2**18, input_type=\"string\")\n",
        "X = hasher.transform(tokenize(d) for d in raw_data)\n",
        "duration = time() - t0\n",
        "dict_count_vectorizers[\"vectorizer\"].append(\n",
        "hasher.__class__.__name__ + \"\\non raw tokens\"\n",
        ")\n",
        "dict_count_vectorizers[\"speed\"].append(data_size_mb /\n",
        "duration)\n",
        "print(f\"done in {duration:.3f} s at {data_size_mb /duration:.1f} MB/s\")\n",
        "print(f\"Found {n_nonzero_columns(X)} unique tokens\")\n",
        "import matplotlib.pyplot as plt\n",
        "fig, ax = plt.subplots(figsize=(12, 6))\n",
        "y_pos = np.arange(len(dict_count_vectorizers[\"vectorizer\"]))\n",
        "ax.barh(y_pos, dict_count_vectorizers[\"speed\"],\n",
        "align=\"center\")\n",
        "ax.set_yticks(y_pos)\n",
        "ax.set_yticklabels(dict_count_vectorizers[\"vectorizer\"])\n",
        "ax.invert_yaxis()\n",
        "_ = ax.set_xlabel(\"speed (MB/s)\")"
      ]
    }
  ]
}